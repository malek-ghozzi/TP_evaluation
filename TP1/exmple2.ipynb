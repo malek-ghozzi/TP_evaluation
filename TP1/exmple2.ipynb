{
 "cells": [
  {
   "cell_type": "code",
   "execution_count": 5,
   "metadata": {},
   "outputs": [
    {
     "name": "stdout",
     "output_type": "stream",
     "text": [
      "[0.8207678628025932, 0.8016812607616919, 0.8039121689393113, 0.7983227658075984] \n",
      " [0.014905246435915629, 0.030803406551856163, 0.03579805573674193, 0.040621606714543866]\n"
     ]
    },
    {
     "data": {
      "image/png": "[encoded data removed]",
      "text/plain": [
       "<Figure size 432x288 with 1 Axes>"
      ]
     },
     "metadata": {
      "needs_background": "light"
     },
     "output_type": "display_data"
    }
   ],
   "source": [
    "\"\"\"\n",
    "                    Importation des bibliothéques\n",
    "        \n",
    "\"\"\"\n",
    "\n",
    "import random # bibliothéque pour génerer une distribution uniforme continue\n",
    "import matplotlib.pyplot as plt # bibliothéque pour afficher les figures\n",
    "import math # bibliothéque pour les fonction mathématiques\n",
    "import numpy as np\n",
    "\n",
    "\"\"\"\n",
    "                    Déclarations des fonctions qu'on va utiliser \n",
    "\n",
    "\"\"\"\n",
    "\n",
    "def gen_tabel(n,lamda): # Focntion qui va générer les valeurs xn\n",
    "\n",
    "    a=np.random.exponential(1/lamda,n)\n",
    "\n",
    "    return a # retourner le tableau a qui contient les xn\n",
    "              \n",
    "def moy_emp(a,n) : # fonction qui calcule la moyenne empérique\n",
    "    \n",
    "    x=0 # determiner n le nombre totale des xn dans a\n",
    "    for j in a:# calcule de Xn barre et retourner la valeur de Xn barre finale\n",
    "        x+=j\n",
    "    return x/n\n",
    "\n",
    "def var_emp(a,xn_,n): # fonction qui calcule la variance empérique\n",
    "    var=0\n",
    "    for i in a:\n",
    "        var+=(i-xn_)**2 # formule qui calcule la variance avec xn_ est la moyenne empérique\n",
    "    return var/n # suite de la formule de la variance\n",
    "\n",
    "\"\"\"\n",
    "                    paramétres de la distrubition\n",
    "\n",
    "\"\"\"\n",
    "\n",
    "n=[10,100,1000,10000] # differents valeurs des n : nombre des echantillons\n",
    "lamda=5 # différentes valeurs de lamda\n",
    "teta=[] # intialisation d'un tableau qui va stocker les differentes valeurs de téta\n",
    "Xn=[] # intialiation d'un tableau qui va contenir les différentes valeurs de Xn\n",
    "\n",
    "for i in n: # boucle qui va parcourir les differents valeurs de n\n",
    "    t=gen_tabel(i,lamda) # génération d'un tableau t qui va stocker les xn\n",
    "    Xn.append(moy_emp(t,i)) # calcule des différents valeurs Xn barre est les stocker dans Xn[]\n",
    "    teta.append(var_emp(t,moy_emp(t,i),i)) # calcule des différentes valeurs de la variance est les stocker dans téta[]\n",
    "print(Xn,\"\\n\",teta) # affichage de Xn barre et téta\n",
    "\n",
    "\n",
    "\"\"\"\n",
    "                    Affichage des Figuers\n",
    "\n",
    "\"\"\"\n",
    "\n",
    "plt.plot(n,teta,color=\"red\",label=\"Variance empérique\") # dessinier téta en focntion de n avec la couleur Rouge\n",
    "plt.plot(n,Xn,color=\"green\",label=\"Moyenne empérique\") # dessinier Xn barre en fonction de n avec la couleur Vert\n",
    "plt.xlabel(\"Nombre d'echantillon\")\n",
    "plt.ylabel(\"Variables aléatoires\")\n",
    "plt.title(\"Courbe de la moyenne empérique et la variance empérique\")\n",
    "plt.legend()\n",
    "plt.grid() # grid la figure\n",
    "plt.show() # affichier la figure\n",
    "\n",
    "\n",
    "\n"
   ]
  },
  {
   "cell_type": "code",
   "execution_count": null,
   "metadata": {},
   "outputs": [],
   "source": []
  }
 ],
 "metadata": {
  "kernelspec": {
   "display_name": "Python 3",
   "language": "python",
   "name": "python3"
  },
  "language_info": {
   "codemirror_mode": {
    "name": "ipython",
    "version": 3
   },
   "file_extension": ".py",
   "mimetype": "text/x-python",
   "name": "python",
   "nbconvert_exporter": "python",
   "pygments_lexer": "ipython3",
   "version": "3.8.3"
  }
 },
 "nbformat": 4,
 "nbformat_minor": 4
}
